{
  "nbformat": 4,
  "nbformat_minor": 0,
  "metadata": {
    "colab": {
      "provenance": [],
      "authorship_tag": "ABX9TyNk+7luqsAf/5CqgddVodCD",
      "include_colab_link": true
    },
    "kernelspec": {
      "name": "python3",
      "display_name": "Python 3"
    },
    "language_info": {
      "name": "python"
    },
    "widgets": {
      "application/vnd.jupyter.widget-state+json": {
        "da202f2c92694804b91b25fee5c5febf": {
          "model_module": "@jupyter-widgets/controls",
          "model_name": "TextareaModel",
          "model_module_version": "1.5.0",
          "state": {
            "_dom_classes": [],
            "_model_module": "@jupyter-widgets/controls",
            "_model_module_version": "1.5.0",
            "_model_name": "TextareaModel",
            "_view_count": null,
            "_view_module": "@jupyter-widgets/controls",
            "_view_module_version": "1.5.0",
            "_view_name": "TextareaView",
            "continuous_update": true,
            "description": "Text:",
            "description_tooltip": null,
            "disabled": false,
            "layout": "IPY_MODEL_a712bfda7c6e49588d31f16ec70588ac",
            "placeholder": "Paste your article or text here...",
            "rows": null,
            "style": "IPY_MODEL_9c5ea77127014a01a09f40cc9c8accd5",
            "value": "Artificial Intelligence (AI) is rapidly transforming every industry. From healthcare to finance, AI-powered technologies are improving efficiency, accuracy, and innovation. In healthcare, AI is helping doctors diagnose diseases faster through tools like imaging analysis and predictive analytics. In finance, AI algorithms detect fraud and automate complex trading strategies. Despite its many advantages, AI also raises concerns about privacy, ethical use, and job displacement. To address these challenges, governments and companies are investing heavily in AI ethics research and policy-making. As AI continues to evolve, it holds the potential to solve some of humanity’s biggest problems while also requiring careful oversight to ensure it benefits everyone."
          }
        },
        "a712bfda7c6e49588d31f16ec70588ac": {
          "model_module": "@jupyter-widgets/base",
          "model_name": "LayoutModel",
          "model_module_version": "1.2.0",
          "state": {
            "_model_module": "@jupyter-widgets/base",
            "_model_module_version": "1.2.0",
            "_model_name": "LayoutModel",
            "_view_count": null,
            "_view_module": "@jupyter-widgets/base",
            "_view_module_version": "1.2.0",
            "_view_name": "LayoutView",
            "align_content": null,
            "align_items": null,
            "align_self": null,
            "border": null,
            "bottom": null,
            "display": null,
            "flex": null,
            "flex_flow": null,
            "grid_area": null,
            "grid_auto_columns": null,
            "grid_auto_flow": null,
            "grid_auto_rows": null,
            "grid_column": null,
            "grid_gap": null,
            "grid_row": null,
            "grid_template_areas": null,
            "grid_template_columns": null,
            "grid_template_rows": null,
            "height": "200px",
            "justify_content": null,
            "justify_items": null,
            "left": null,
            "margin": null,
            "max_height": null,
            "max_width": null,
            "min_height": null,
            "min_width": null,
            "object_fit": null,
            "object_position": null,
            "order": null,
            "overflow": null,
            "overflow_x": null,
            "overflow_y": null,
            "padding": null,
            "right": null,
            "top": null,
            "visibility": null,
            "width": "100%"
          }
        },
        "9c5ea77127014a01a09f40cc9c8accd5": {
          "model_module": "@jupyter-widgets/controls",
          "model_name": "DescriptionStyleModel",
          "model_module_version": "1.5.0",
          "state": {
            "_model_module": "@jupyter-widgets/controls",
            "_model_module_version": "1.5.0",
            "_model_name": "DescriptionStyleModel",
            "_view_count": null,
            "_view_module": "@jupyter-widgets/base",
            "_view_module_version": "1.2.0",
            "_view_name": "StyleView",
            "description_width": ""
          }
        },
        "cde069507d3143978357cbb0573cb2a6": {
          "model_module": "@jupyter-widgets/controls",
          "model_name": "ButtonModel",
          "model_module_version": "1.5.0",
          "state": {
            "_dom_classes": [],
            "_model_module": "@jupyter-widgets/controls",
            "_model_module_version": "1.5.0",
            "_model_name": "ButtonModel",
            "_view_count": null,
            "_view_module": "@jupyter-widgets/controls",
            "_view_module_version": "1.5.0",
            "_view_name": "ButtonView",
            "button_style": "success",
            "description": "Summarize",
            "disabled": false,
            "icon": "",
            "layout": "IPY_MODEL_02a77e8b4773481888ba8cb51165f106",
            "style": "IPY_MODEL_aff0f898a9b547209522403a8c10132f",
            "tooltip": ""
          }
        },
        "02a77e8b4773481888ba8cb51165f106": {
          "model_module": "@jupyter-widgets/base",
          "model_name": "LayoutModel",
          "model_module_version": "1.2.0",
          "state": {
            "_model_module": "@jupyter-widgets/base",
            "_model_module_version": "1.2.0",
            "_model_name": "LayoutModel",
            "_view_count": null,
            "_view_module": "@jupyter-widgets/base",
            "_view_module_version": "1.2.0",
            "_view_name": "LayoutView",
            "align_content": null,
            "align_items": null,
            "align_self": null,
            "border": null,
            "bottom": null,
            "display": null,
            "flex": null,
            "flex_flow": null,
            "grid_area": null,
            "grid_auto_columns": null,
            "grid_auto_flow": null,
            "grid_auto_rows": null,
            "grid_column": null,
            "grid_gap": null,
            "grid_row": null,
            "grid_template_areas": null,
            "grid_template_columns": null,
            "grid_template_rows": null,
            "height": null,
            "justify_content": null,
            "justify_items": null,
            "left": null,
            "margin": null,
            "max_height": null,
            "max_width": null,
            "min_height": null,
            "min_width": null,
            "object_fit": null,
            "object_position": null,
            "order": null,
            "overflow": null,
            "overflow_x": null,
            "overflow_y": null,
            "padding": null,
            "right": null,
            "top": null,
            "visibility": null,
            "width": null
          }
        },
        "aff0f898a9b547209522403a8c10132f": {
          "model_module": "@jupyter-widgets/controls",
          "model_name": "ButtonStyleModel",
          "model_module_version": "1.5.0",
          "state": {
            "_model_module": "@jupyter-widgets/controls",
            "_model_module_version": "1.5.0",
            "_model_name": "ButtonStyleModel",
            "_view_count": null,
            "_view_module": "@jupyter-widgets/base",
            "_view_module_version": "1.2.0",
            "_view_name": "StyleView",
            "button_color": null,
            "font_weight": ""
          }
        },
        "730497bfdee54724b47486faca7ed03f": {
          "model_module": "@jupyter-widgets/output",
          "model_name": "OutputModel",
          "model_module_version": "1.0.0",
          "state": {
            "_dom_classes": [],
            "_model_module": "@jupyter-widgets/output",
            "_model_module_version": "1.0.0",
            "_model_name": "OutputModel",
            "_view_count": null,
            "_view_module": "@jupyter-widgets/output",
            "_view_module_version": "1.0.0",
            "_view_name": "OutputView",
            "layout": "IPY_MODEL_1f9602930c42479bbd92aa9f3ddbbd89",
            "msg_id": "",
            "outputs": [
              {
                "output_type": "stream",
                "name": "stdout",
                "text": [
                  "Error summarizing text: An error occurred (UnrecognizedClientException) when calling the DetectKeyPhrases operation: The security token included in the request is invalid.\n"
                ]
              }
            ]
          }
        },
        "1f9602930c42479bbd92aa9f3ddbbd89": {
          "model_module": "@jupyter-widgets/base",
          "model_name": "LayoutModel",
          "model_module_version": "1.2.0",
          "state": {
            "_model_module": "@jupyter-widgets/base",
            "_model_module_version": "1.2.0",
            "_model_name": "LayoutModel",
            "_view_count": null,
            "_view_module": "@jupyter-widgets/base",
            "_view_module_version": "1.2.0",
            "_view_name": "LayoutView",
            "align_content": null,
            "align_items": null,
            "align_self": null,
            "border": null,
            "bottom": null,
            "display": null,
            "flex": null,
            "flex_flow": null,
            "grid_area": null,
            "grid_auto_columns": null,
            "grid_auto_flow": null,
            "grid_auto_rows": null,
            "grid_column": null,
            "grid_gap": null,
            "grid_row": null,
            "grid_template_areas": null,
            "grid_template_columns": null,
            "grid_template_rows": null,
            "height": null,
            "justify_content": null,
            "justify_items": null,
            "left": null,
            "margin": null,
            "max_height": null,
            "max_width": null,
            "min_height": null,
            "min_width": null,
            "object_fit": null,
            "object_position": null,
            "order": null,
            "overflow": null,
            "overflow_x": null,
            "overflow_y": null,
            "padding": null,
            "right": null,
            "top": null,
            "visibility": null,
            "width": null
          }
        },
        "ef6ae6bfd309412d8bd1ef07b4b47da8": {
          "model_module": "@jupyter-widgets/controls",
          "model_name": "TextareaModel",
          "model_module_version": "1.5.0",
          "state": {
            "_dom_classes": [],
            "_model_module": "@jupyter-widgets/controls",
            "_model_module_version": "1.5.0",
            "_model_name": "TextareaModel",
            "_view_count": null,
            "_view_module": "@jupyter-widgets/controls",
            "_view_module_version": "1.5.0",
            "_view_name": "TextareaView",
            "continuous_update": true,
            "description": "Text:",
            "description_tooltip": null,
            "disabled": false,
            "layout": "IPY_MODEL_24741800fb4e4c0ca4f21862fdfba2c2",
            "placeholder": "Paste your article or text here...",
            "rows": null,
            "style": "IPY_MODEL_28e6b2de42ac4a11aefaf329ba5f4657",
            "value": "Artificial Intelligence (AI) is rapidly transforming every industry. From healthcare to finance, AI-powered technologies are improving efficiency, accuracy, and innovation. In healthcare, AI is helping doctors diagnose diseases faster through tools like imaging analysis and predictive analytics. In finance, AI algorithms detect fraud and automate complex trading strategies. Despite its many advantages, AI also raises concerns about privacy, ethical use, and job displacement. To address these challenges, governments and companies are investing heavily in AI ethics research and policy-making. As AI continues to evolve, it holds the potential to solve some of humanity’s biggest problems while also requiring careful oversight to ensure it benefits everyone."
          }
        },
        "24741800fb4e4c0ca4f21862fdfba2c2": {
          "model_module": "@jupyter-widgets/base",
          "model_name": "LayoutModel",
          "model_module_version": "1.2.0",
          "state": {
            "_model_module": "@jupyter-widgets/base",
            "_model_module_version": "1.2.0",
            "_model_name": "LayoutModel",
            "_view_count": null,
            "_view_module": "@jupyter-widgets/base",
            "_view_module_version": "1.2.0",
            "_view_name": "LayoutView",
            "align_content": null,
            "align_items": null,
            "align_self": null,
            "border": null,
            "bottom": null,
            "display": null,
            "flex": null,
            "flex_flow": null,
            "grid_area": null,
            "grid_auto_columns": null,
            "grid_auto_flow": null,
            "grid_auto_rows": null,
            "grid_column": null,
            "grid_gap": null,
            "grid_row": null,
            "grid_template_areas": null,
            "grid_template_columns": null,
            "grid_template_rows": null,
            "height": "200px",
            "justify_content": null,
            "justify_items": null,
            "left": null,
            "margin": null,
            "max_height": null,
            "max_width": null,
            "min_height": null,
            "min_width": null,
            "object_fit": null,
            "object_position": null,
            "order": null,
            "overflow": null,
            "overflow_x": null,
            "overflow_y": null,
            "padding": null,
            "right": null,
            "top": null,
            "visibility": null,
            "width": "100%"
          }
        },
        "28e6b2de42ac4a11aefaf329ba5f4657": {
          "model_module": "@jupyter-widgets/controls",
          "model_name": "DescriptionStyleModel",
          "model_module_version": "1.5.0",
          "state": {
            "_model_module": "@jupyter-widgets/controls",
            "_model_module_version": "1.5.0",
            "_model_name": "DescriptionStyleModel",
            "_view_count": null,
            "_view_module": "@jupyter-widgets/base",
            "_view_module_version": "1.2.0",
            "_view_name": "StyleView",
            "description_width": ""
          }
        },
        "c31b3823ff434b2aaf4ef27150b7e8a0": {
          "model_module": "@jupyter-widgets/controls",
          "model_name": "ButtonModel",
          "model_module_version": "1.5.0",
          "state": {
            "_dom_classes": [],
            "_model_module": "@jupyter-widgets/controls",
            "_model_module_version": "1.5.0",
            "_model_name": "ButtonModel",
            "_view_count": null,
            "_view_module": "@jupyter-widgets/controls",
            "_view_module_version": "1.5.0",
            "_view_name": "ButtonView",
            "button_style": "success",
            "description": "Summarize",
            "disabled": false,
            "icon": "",
            "layout": "IPY_MODEL_30609c4f0f3148058b08a13b3af5081b",
            "style": "IPY_MODEL_75ceb1e8bbc449cdaa380b0dfc0604df",
            "tooltip": ""
          }
        },
        "30609c4f0f3148058b08a13b3af5081b": {
          "model_module": "@jupyter-widgets/base",
          "model_name": "LayoutModel",
          "model_module_version": "1.2.0",
          "state": {
            "_model_module": "@jupyter-widgets/base",
            "_model_module_version": "1.2.0",
            "_model_name": "LayoutModel",
            "_view_count": null,
            "_view_module": "@jupyter-widgets/base",
            "_view_module_version": "1.2.0",
            "_view_name": "LayoutView",
            "align_content": null,
            "align_items": null,
            "align_self": null,
            "border": null,
            "bottom": null,
            "display": null,
            "flex": null,
            "flex_flow": null,
            "grid_area": null,
            "grid_auto_columns": null,
            "grid_auto_flow": null,
            "grid_auto_rows": null,
            "grid_column": null,
            "grid_gap": null,
            "grid_row": null,
            "grid_template_areas": null,
            "grid_template_columns": null,
            "grid_template_rows": null,
            "height": null,
            "justify_content": null,
            "justify_items": null,
            "left": null,
            "margin": null,
            "max_height": null,
            "max_width": null,
            "min_height": null,
            "min_width": null,
            "object_fit": null,
            "object_position": null,
            "order": null,
            "overflow": null,
            "overflow_x": null,
            "overflow_y": null,
            "padding": null,
            "right": null,
            "top": null,
            "visibility": null,
            "width": null
          }
        },
        "75ceb1e8bbc449cdaa380b0dfc0604df": {
          "model_module": "@jupyter-widgets/controls",
          "model_name": "ButtonStyleModel",
          "model_module_version": "1.5.0",
          "state": {
            "_model_module": "@jupyter-widgets/controls",
            "_model_module_version": "1.5.0",
            "_model_name": "ButtonStyleModel",
            "_view_count": null,
            "_view_module": "@jupyter-widgets/base",
            "_view_module_version": "1.2.0",
            "_view_name": "StyleView",
            "button_color": null,
            "font_weight": ""
          }
        },
        "74527c18d9944a5d8df567719c85087b": {
          "model_module": "@jupyter-widgets/output",
          "model_name": "OutputModel",
          "model_module_version": "1.0.0",
          "state": {
            "_dom_classes": [],
            "_model_module": "@jupyter-widgets/output",
            "_model_module_version": "1.0.0",
            "_model_name": "OutputModel",
            "_view_count": null,
            "_view_module": "@jupyter-widgets/output",
            "_view_module_version": "1.0.0",
            "_view_name": "OutputView",
            "layout": "IPY_MODEL_ae5831228f0c47ff85cee7851d3a1259",
            "msg_id": "",
            "outputs": [
              {
                "output_type": "stream",
                "name": "stdout",
                "text": [
                  "🔹 Summary:\n",
                  "\n",
                  "Artificial Intelligence (AI) is rapidly transforming every industry. From healthcare to finance, AI-powered technologies are improving efficiency, accuracy, and innovation. Despite its many advantages, AI also raises concerns about privacy, ethical use, and job displacement.\n"
                ]
              }
            ]
          }
        },
        "ae5831228f0c47ff85cee7851d3a1259": {
          "model_module": "@jupyter-widgets/base",
          "model_name": "LayoutModel",
          "model_module_version": "1.2.0",
          "state": {
            "_model_module": "@jupyter-widgets/base",
            "_model_module_version": "1.2.0",
            "_model_name": "LayoutModel",
            "_view_count": null,
            "_view_module": "@jupyter-widgets/base",
            "_view_module_version": "1.2.0",
            "_view_name": "LayoutView",
            "align_content": null,
            "align_items": null,
            "align_self": null,
            "border": null,
            "bottom": null,
            "display": null,
            "flex": null,
            "flex_flow": null,
            "grid_area": null,
            "grid_auto_columns": null,
            "grid_auto_flow": null,
            "grid_auto_rows": null,
            "grid_column": null,
            "grid_gap": null,
            "grid_row": null,
            "grid_template_areas": null,
            "grid_template_columns": null,
            "grid_template_rows": null,
            "height": null,
            "justify_content": null,
            "justify_items": null,
            "left": null,
            "margin": null,
            "max_height": null,
            "max_width": null,
            "min_height": null,
            "min_width": null,
            "object_fit": null,
            "object_position": null,
            "order": null,
            "overflow": null,
            "overflow_x": null,
            "overflow_y": null,
            "padding": null,
            "right": null,
            "top": null,
            "visibility": null,
            "width": null
          }
        }
      }
    }
  },
  "cells": [
    {
      "cell_type": "markdown",
      "metadata": {
        "id": "view-in-github",
        "colab_type": "text"
      },
      "source": [
        "<a href=\"https://colab.research.google.com/github/sakshighoti/Text-Summarizer_App/blob/main/AWS_project.ipynb\" target=\"_parent\"><img src=\"https://colab.research.google.com/assets/colab-badge.svg\" alt=\"Open In Colab\"/></a>"
      ]
    },
    {
      "cell_type": "code",
      "source": [
        "import boto3\n",
        "import ipywidgets as widgets\n",
        "from IPython.display import display\n",
        "\n",
        "# AWS credentials (REPLACE with yours)\n",
        "aws_access_key = 'AKIAXXXXXXXXXXXXXXX'\n",
        "aws_secret_key = 'XXXXXXXXXXXXXXXXXXXXXXXX'\n",
        "aws_region = 'us-east-1'\n",
        "\n",
        "\n",
        "# Connect to AWS Comprehend\n",
        "comprehend = boto3.client(\n",
        "    'comprehend',\n",
        "    aws_access_key_id=aws_access_key,\n",
        "    aws_secret_access_key=aws_secret_key,\n",
        "    region_name=aws_region\n",
        ")\n",
        "\n",
        "# Create Text Input Area\n",
        "text_area = widgets.Textarea(\n",
        "    value='',\n",
        "    placeholder='Paste your article or text here...',\n",
        "    description='Text:',\n",
        "    layout=widgets.Layout(width='100%', height='200px')\n",
        ")\n",
        "display(text_area)\n",
        "\n",
        "# Summarize Button\n",
        "button = widgets.Button(description=\"Summarize\", button_style='success')\n",
        "output = widgets.Output()\n",
        "\n",
        "def summarize_text(b):\n",
        "    with output:\n",
        "        output.clear_output()\n",
        "        input_text = text_area.value\n",
        "        if input_text.strip() == \"\":\n",
        "            print(\"⚠️ Please paste some text first!\")\n",
        "            return\n",
        "\n",
        "        try:\n",
        "            response = comprehend.detect_key_phrases(\n",
        "                Text=input_text,\n",
        "                LanguageCode='en'\n",
        "            )\n",
        "            print(\"🔹 Key Points Summary:\\n\")\n",
        "            for phrase in response['KeyPhrases'][:5]:\n",
        "                print(\"-\", phrase['Text'])\n",
        "        except Exception as e:\n",
        "            print(\"Error summarizing text:\", e)\n",
        "\n",
        "button.on_click(summarize_text)\n",
        "display(button, output)\n"
      ],
      "metadata": {
        "colab": {
          "base_uri": "https://localhost:8080/",
          "height": 308,
          "referenced_widgets": [
            "da202f2c92694804b91b25fee5c5febf",
            "a712bfda7c6e49588d31f16ec70588ac",
            "9c5ea77127014a01a09f40cc9c8accd5",
            "cde069507d3143978357cbb0573cb2a6",
            "02a77e8b4773481888ba8cb51165f106",
            "aff0f898a9b547209522403a8c10132f",
            "730497bfdee54724b47486faca7ed03f",
            "1f9602930c42479bbd92aa9f3ddbbd89"
          ]
        },
        "id": "bmuqwHElQ3_w",
        "outputId": "0a79c1e8-42fd-46d5-e31d-3fb0fc317aa9"
      },
      "execution_count": 5,
      "outputs": [
        {
          "output_type": "display_data",
          "data": {
            "text/plain": [
              "Textarea(value='', description='Text:', layout=Layout(height='200px', width='100%'), placeholder='Paste your a…"
            ],
            "application/vnd.jupyter.widget-view+json": {
              "version_major": 2,
              "version_minor": 0,
              "model_id": "da202f2c92694804b91b25fee5c5febf"
            }
          },
          "metadata": {}
        },
        {
          "output_type": "display_data",
          "data": {
            "text/plain": [
              "Button(button_style='success', description='Summarize', style=ButtonStyle())"
            ],
            "application/vnd.jupyter.widget-view+json": {
              "version_major": 2,
              "version_minor": 0,
              "model_id": "cde069507d3143978357cbb0573cb2a6"
            }
          },
          "metadata": {}
        },
        {
          "output_type": "display_data",
          "data": {
            "text/plain": [
              "Output()"
            ],
            "application/vnd.jupyter.widget-view+json": {
              "version_major": 2,
              "version_minor": 0,
              "model_id": "730497bfdee54724b47486faca7ed03f"
            }
          },
          "metadata": {}
        }
      ]
    },
    {
      "cell_type": "code",
      "source": [
        "# Import libraries\n",
        "from transformers import pipeline\n",
        "import ipywidgets as widgets\n",
        "from IPython.display import display\n",
        "\n",
        "# Load summarization pipeline\n",
        "summarizer = pipeline(\"summarization\", model=\"facebook/bart-large-cnn\")\n",
        "\n",
        "# Create Text Input\n",
        "text_area = widgets.Textarea(\n",
        "    value='',\n",
        "    placeholder='Paste your article or text here...',\n",
        "    description='Text:',\n",
        "    layout=widgets.Layout(width='100%', height='200px')\n",
        ")\n",
        "display(text_area)\n",
        "\n",
        "# Create Summarize Button\n",
        "button = widgets.Button(description=\"Summarize\", button_style='success')\n",
        "output = widgets.Output()\n",
        "\n",
        "def summarize_text(b):\n",
        "    with output:\n",
        "        output.clear_output()\n",
        "        input_text = text_area.value\n",
        "        if input_text.strip() == \"\":\n",
        "            print(\"⚠️ Please paste some text first!\")\n",
        "            return\n",
        "\n",
        "        # Summarize\n",
        "        summary = summarizer(input_text, max_length=130, min_length=30, do_sample=False)\n",
        "        print(\"🔹 Summary:\\n\")\n",
        "        print(summary[0]['summary_text'])\n",
        "\n",
        "button.on_click(summarize_text)\n",
        "display(button, output)\n"
      ],
      "metadata": {
        "colab": {
          "base_uri": "https://localhost:8080/",
          "height": 360,
          "referenced_widgets": [
            "ef6ae6bfd309412d8bd1ef07b4b47da8",
            "24741800fb4e4c0ca4f21862fdfba2c2",
            "28e6b2de42ac4a11aefaf329ba5f4657",
            "c31b3823ff434b2aaf4ef27150b7e8a0",
            "30609c4f0f3148058b08a13b3af5081b",
            "75ceb1e8bbc449cdaa380b0dfc0604df",
            "74527c18d9944a5d8df567719c85087b",
            "ae5831228f0c47ff85cee7851d3a1259"
          ]
        },
        "id": "_QrkBmq_ctJb",
        "outputId": "2ec829d4-8373-422f-a03b-a688c5f6ccfd"
      },
      "execution_count": 9,
      "outputs": [
        {
          "output_type": "stream",
          "name": "stderr",
          "text": [
            "Device set to use cpu\n"
          ]
        },
        {
          "output_type": "display_data",
          "data": {
            "text/plain": [
              "Textarea(value='', description='Text:', layout=Layout(height='200px', width='100%'), placeholder='Paste your a…"
            ],
            "application/vnd.jupyter.widget-view+json": {
              "version_major": 2,
              "version_minor": 0,
              "model_id": "ef6ae6bfd309412d8bd1ef07b4b47da8"
            }
          },
          "metadata": {}
        },
        {
          "output_type": "display_data",
          "data": {
            "text/plain": [
              "Button(button_style='success', description='Summarize', style=ButtonStyle())"
            ],
            "application/vnd.jupyter.widget-view+json": {
              "version_major": 2,
              "version_minor": 0,
              "model_id": "c31b3823ff434b2aaf4ef27150b7e8a0"
            }
          },
          "metadata": {}
        },
        {
          "output_type": "display_data",
          "data": {
            "text/plain": [
              "Output()"
            ],
            "application/vnd.jupyter.widget-view+json": {
              "version_major": 2,
              "version_minor": 0,
              "model_id": "74527c18d9944a5d8df567719c85087b"
            }
          },
          "metadata": {}
        }
      ]
    }
  ]
}